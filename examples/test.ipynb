{
 "cells": [
  {
   "cell_type": "code",
   "execution_count": null,
   "metadata": {},
   "outputs": [],
   "source": [
    "import sys, os\n",
    "\n",
    "# ADD YOUR PATH TO pyFM or `pip install pyFM`\n",
    "sys.path.append(\"../../pyFM/\")"
   ]
  },
  {
   "cell_type": "code",
   "execution_count": null,
   "metadata": {},
   "outputs": [],
   "source": [
    "import numpy as np\n",
    "import torch as th\n",
    "\n",
    "\n",
    "from pyFM.mesh import TriMesh\n",
    "import pyFM.spectral as spectral\n",
    "import matplotlib.pyplot as plt\n",
    "\n",
    "# Importing RHM adds the path to densemaps to the system path\n",
    "import rhm\n",
    "\n",
    "import densemaps.numpy.maps as maps_np\n",
    "import densemaps.torch.maps as maps_th"
   ]
  },
  {
   "cell_type": "code",
   "execution_count": null,
   "metadata": {},
   "outputs": [],
   "source": [
    "mesh1 = TriMesh(\"./data/mesh1.off\", area_normalize=True, center=True).process(\n",
    "    k=50, intrinsic=True\n",
    ")\n",
    "mesh2 = TriMesh(\"./data/mesh2.off\", area_normalize=True, center=True).process(\n",
    "    k=50, intrinsic=True\n",
    ")"
   ]
  },
  {
   "cell_type": "code",
   "execution_count": null,
   "metadata": {},
   "outputs": [],
   "source": [
    "from rhm.geometry_utils import knn_query\n",
    "\n",
    "p2p_21 = knn_query(mesh1.vertices, mesh2.vertices)"
   ]
  },
  {
   "cell_type": "code",
   "execution_count": null,
   "metadata": {},
   "outputs": [],
   "source": [
    "def get_init_map_np(mesh1, mesh2):\n",
    "    \"\"\"Computes an initial map from NN query.\n",
    "\n",
    "    Numpy version.\n",
    "    Projects into functional map then back to pointwise map.\n",
    "    \"\"\"\n",
    "    # compute the spectral bases\n",
    "    k = 30\n",
    "    p2p_21 = knn_query(mesh1.vertices, mesh2.vertices)\n",
    "    FM_12 = spectral.mesh_p2p_to_FM(p2p_21, mesh1, mesh2, dims=k)\n",
    "\n",
    "    emb1 = mesh1.eigenvectors[:, :k] @ FM_12.T\n",
    "    emb2 = mesh2.eigenvectors[:, :k]\n",
    "    P21 = maps_np.EmbP2PMap(emb1, emb2)\n",
    "    return P21"
   ]
  },
  {
   "cell_type": "code",
   "execution_count": null,
   "metadata": {},
   "outputs": [],
   "source": [
    "def get_init_map_th(mesh1, mesh2):\n",
    "    \"\"\"Computes an initial map from NN query.\n",
    "\n",
    "    Numpy version.\n",
    "    Projects into functional map then back to pointwise map.\n",
    "    \"\"\"\n",
    "    # compute the spectral bases\n",
    "    k = 10\n",
    "    p2p_21 = knn_query(mesh1.vertices, mesh2.vertices)\n",
    "    FM_12 = spectral.mesh_p2p_to_FM(p2p_21, mesh1, mesh2, dims=k)\n",
    "\n",
    "    emb1 = th.from_numpy((mesh1.eigenvectors[:, :k] @ FM_12.T).astype(np.float32))\n",
    "    emb2 = th.from_numpy(mesh2.eigenvectors[:, :k].astype(np.float32))\n",
    "\n",
    "    P21 = maps_th.EmbP2PMap(emb1, emb2)\n",
    "    return P21"
   ]
  },
  {
   "cell_type": "code",
   "execution_count": null,
   "metadata": {},
   "outputs": [],
   "source": [
    "P21_init = get_init_map_th(mesh1, mesh2)\n",
    "P12_init = get_init_map_th(mesh2, mesh1)"
   ]
  },
  {
   "cell_type": "code",
   "execution_count": null,
   "metadata": {},
   "outputs": [],
   "source": [
    "# import RHM.numpy.rhm_solver\n",
    "import rhm.torch.rhm_solver"
   ]
  },
  {
   "cell_type": "code",
   "execution_count": null,
   "metadata": {},
   "outputs": [],
   "source": [
    "res_th = rhm.torch.rhm_solver.rhm_refine(\n",
    "    mesh1,\n",
    "    mesh2,\n",
    "    P12_init,\n",
    "    P21_init,\n",
    "    alpha=5e-4,\n",
    "    beta=5e-3,\n",
    "    nit_max=200,\n",
    "    nit_min=20,\n",
    "    abs_tol=1e-9,\n",
    "    n_jobs=10,\n",
    "    log=True,\n",
    "    precise=True,\n",
    "    last_precise=True,\n",
    "    device=\"cuda:1\",\n",
    "    verbose=True,\n",
    ")"
   ]
  },
  {
   "cell_type": "code",
   "execution_count": null,
   "metadata": {},
   "outputs": [],
   "source": [
    "# Plot energy\n",
    "plt.semilogy([x[-1] for x in res_th[2]], label=\"Total\")\n",
    "plt.semilogy([x[0] for x in res_th[2]], label=\"Dirichlet\")"
   ]
  },
  {
   "cell_type": "code",
   "execution_count": null,
   "metadata": {},
   "outputs": [],
   "source": [
    "P21_rhm = res_th[1]\n",
    "\n",
    "uv1 = mesh1.get_uv(0, 1, 2)\n",
    "\n",
    "uv2 = P21_rhm._to_np_sparse() @ uv1\n",
    "\n",
    "os.makedirs(\"test_res\", exist_ok=True)\n",
    "mesh1.export_texture(\"test_res/mesh1.obj\", uv=uv1)\n",
    "mesh2.export_texture(\"test_res/mesh2.obj\", uv=uv2)\n",
    "mesh2.export_texture(\"test_res/mesh2_init.obj\", uv=P21_init._to_np_sparse() @ uv1)"
   ]
  },
  {
   "cell_type": "code",
   "execution_count": null,
   "metadata": {},
   "outputs": [],
   "source": [
    "# P21_init = get_init_map_np(mesh1, mesh2)\n",
    "# P12_init = get_init_map_np(mesh2, mesh1)\n",
    "\n",
    "# res_np = rhm.numpy.rhm_solver.rhm_refine(mesh1, mesh2, P12_init, P21_init, alpha=5e-4, beta=5e-3, nit_max=200, emb_dim=10, nit_min=20, abs_tol=1e-9, n_jobs=10, log=True, precise=True, last_precise=True, verbose=True)"
   ]
  }
 ],
 "metadata": {
  "kernelspec": {
   "display_name": "py39",
   "language": "python",
   "name": "python3"
  },
  "language_info": {
   "codemirror_mode": {
    "name": "ipython",
    "version": 3
   },
   "file_extension": ".py",
   "mimetype": "text/x-python",
   "name": "python",
   "nbconvert_exporter": "python",
   "pygments_lexer": "ipython3",
   "version": "3.9.18"
  },
  "orig_nbformat": 4
 },
 "nbformat": 4,
 "nbformat_minor": 2
}
