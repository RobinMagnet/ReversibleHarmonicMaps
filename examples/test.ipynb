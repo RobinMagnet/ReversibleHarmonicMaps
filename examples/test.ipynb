{
 "cells": [
  {
   "cell_type": "code",
   "execution_count": 2,
   "metadata": {},
   "outputs": [],
   "source": [
    "import sys, os\n",
    "\n",
    "# ADD YOUR PATH TO pyFM or `pip install pyFM`\n",
    "sys.path.append('../../pyFM/')\n"
   ]
  },
  {
   "cell_type": "code",
   "execution_count": 4,
   "metadata": {},
   "outputs": [],
   "source": [
    "import numpy as np\n",
    "import torch as th\n",
    "\n",
    "\n",
    "from pyFM.mesh import TriMesh\n",
    "import pyFM.spectral as spectral\n",
    "import matplotlib.pyplot as plt\n",
    "\n",
    "# Importing RHM adds the path to densemaps to the system path\n",
    "import RHM\n",
    "\n",
    "import densemaps.numpy.maps as maps_np\n",
    "import densemaps.torch.maps as maps_th"
   ]
  },
  {
   "cell_type": "code",
   "execution_count": 5,
   "metadata": {},
   "outputs": [],
   "source": [
    "mesh1 = TriMesh(\"./data/mesh1.off\", area_normalize=True, center=True).process(k=50, intrinsic=True)\n",
    "mesh2 = TriMesh(\"./data/mesh2.off\", area_normalize=True, center=True).process(k=50, intrinsic=True)"
   ]
  },
  {
   "cell_type": "code",
   "execution_count": 6,
   "metadata": {},
   "outputs": [],
   "source": [
    "from RHM.geometry_utils import knn_query\n",
    "p2p_21 = knn_query(mesh1.vertices, mesh2.vertices)\n"
   ]
  },
  {
   "cell_type": "code",
   "execution_count": 8,
   "metadata": {},
   "outputs": [],
   "source": [
    "def get_init_map_np(mesh1, mesh2):\n",
    "    \"\"\"Computes an initial map from NN query.\n",
    "\n",
    "    Numpy version.\n",
    "    Projects into functional map then back to pointwise map.\n",
    "    \"\"\"\n",
    "    # compute the spectral bases\n",
    "    k=30\n",
    "    p2p_21 = knn_query(mesh1.vertices, mesh2.vertices)\n",
    "    FM_12 = spectral.mesh_p2p_to_FM(p2p_21, mesh1, mesh2, dims=k)\n",
    "\n",
    "    emb1 = mesh1.eigenvectors[:,:k] @ FM_12.T\n",
    "    emb2 = mesh2.eigenvectors[:,:k]\n",
    "    P21 = maps_np.EmbP2PMap(emb1, emb2)\n",
    "    return P21"
   ]
  },
  {
   "cell_type": "code",
   "execution_count": 9,
   "metadata": {},
   "outputs": [],
   "source": [
    "def get_init_map_th(mesh1, mesh2):\n",
    "    \"\"\"Computes an initial map from NN query.\n",
    "\n",
    "    Numpy version.\n",
    "    Projects into functional map then back to pointwise map.\n",
    "    \"\"\"\n",
    "    # compute the spectral bases\n",
    "    k=10\n",
    "    p2p_21 = knn_query(mesh1.vertices, mesh2.vertices)\n",
    "    FM_12 = spectral.mesh_p2p_to_FM(p2p_21, mesh1, mesh2, dims=k)\n",
    "    \n",
    "    emb1 = th.from_numpy((mesh1.eigenvectors[:,:k] @ FM_12.T).astype(np.float32))\n",
    "    emb2 = th.from_numpy(mesh2.eigenvectors[:,:k].astype(np.float32))\n",
    "\n",
    "    P21 = maps_th.EmbP2PMap(emb1, emb2)\n",
    "    return P21"
   ]
  },
  {
   "cell_type": "code",
   "execution_count": 12,
   "metadata": {},
   "outputs": [],
   "source": [
    "P21_init = get_init_map_th(mesh1, mesh2)\n",
    "P12_init = get_init_map_th(mesh2, mesh1)"
   ]
  },
  {
   "cell_type": "code",
   "execution_count": 14,
   "metadata": {},
   "outputs": [],
   "source": [
    "# import RHM.numpy.rhm_solver\n",
    "import RHM.torch.rhm_solver"
   ]
  },
  {
   "cell_type": "code",
   "execution_count": 15,
   "metadata": {},
   "outputs": [
    {
     "name": "stderr",
     "output_type": "stream",
     "text": [
      "/home/robin/.conda/envs/py39/lib/python3.9/site-packages/sklearn/manifold/_mds.py:298: FutureWarning: The default value of `normalized_stress` will change to `'auto'` in version 1.4. To suppress this warning, manually set the value of `normalized_stress`.\n",
      "  warnings.warn(\n",
      "/home/robin/.conda/envs/py39/lib/python3.9/site-packages/sklearn/manifold/_mds.py:298: FutureWarning: The default value of `normalized_stress` will change to `'auto'` in version 1.4. To suppress this warning, manually set the value of `normalized_stress`.\n",
      "  warnings.warn(\n"
     ]
    },
    {
     "data": {
      "application/vnd.jupyter.widget-view+json": {
       "model_id": "83868b8208854732af9a456062cfca1b",
       "version_major": 2,
       "version_minor": 0
      },
      "text/plain": [
       "  0%|          | 0/200 [00:00<?, ?it/s]"
      ]
     },
     "metadata": {},
     "output_type": "display_data"
    }
   ],
   "source": [
    "res_th = RHM.torch.rhm_solver.rhm_refine(mesh1, mesh2, P12_init, P21_init, alpha=5e-4, beta=5e-3, nit_max=200, nit_min=20, abs_tol=1e-9, n_jobs=10, log=True, precise=True, last_precise=True, device='cuda:1', verbose=True)"
   ]
  },
  {
   "cell_type": "code",
   "execution_count": 16,
   "metadata": {},
   "outputs": [
    {
     "data": {
      "text/plain": [
       "[<matplotlib.lines.Line2D at 0x7efc13254640>]"
      ]
     },
     "execution_count": 16,
     "metadata": {},
     "output_type": "execute_result"
    },
    {
     "data": {
      "image/png": "[encoded data removed]",
      "text/plain": [
       "<Figure size 640x480 with 1 Axes>"
      ]
     },
     "metadata": {},
     "output_type": "display_data"
    }
   ],
   "source": [
    "# Plot energy\n",
    "plt.semilogy([x[-1] for x in res_th[2]], label='Total')\n",
    "plt.semilogy([x[0] for x in res_th[2]], label='Dirichlet')"
   ]
  },
  {
   "cell_type": "code",
   "execution_count": 20,
   "metadata": {},
   "outputs": [
    {
     "name": "stdout",
     "output_type": "stream",
     "text": [
      "Copy texture at test_res/texture_1.jpg\n"
     ]
    },
    {
     "data": {
      "text/plain": [
       "<pyFM.mesh.trimesh.TriMesh at 0x7efda8077bb0>"
      ]
     },
     "execution_count": 20,
     "metadata": {},
     "output_type": "execute_result"
    }
   ],
   "source": [
    "P21_rhm = res_th[1]\n",
    "\n",
    "uv1 = mesh1.get_uv(0,1,2)\n",
    "\n",
    "uv2 = P21_rhm._to_np_sparse() @ uv1\n",
    "\n",
    "os.makedirs(\"test_res\", exist_ok=True)\n",
    "mesh1.export_texture(\"test_res/mesh1.obj\", uv=uv1)\n",
    "mesh2.export_texture(\"test_res/mesh2.obj\", uv=uv2)\n",
    "mesh2.export_texture(\"test_res/mesh2_init.obj\", uv=P21_init._to_np_sparse() @ uv1)\n"
   ]
  },
  {
   "cell_type": "code",
   "execution_count": 13,
   "metadata": {},
   "outputs": [
    {
     "name": "stderr",
     "output_type": "stream",
     "text": [
      "/home/robin/.conda/envs/py39/lib/python3.9/site-packages/sklearn/manifold/_mds.py:298: FutureWarning: The default value of `normalized_stress` will change to `'auto'` in version 1.4. To suppress this warning, manually set the value of `normalized_stress`.\n",
      "  warnings.warn(\n",
      "/home/robin/.conda/envs/py39/lib/python3.9/site-packages/sklearn/manifold/_mds.py:298: FutureWarning: The default value of `normalized_stress` will change to `'auto'` in version 1.4. To suppress this warning, manually set the value of `normalized_stress`.\n",
      "  warnings.warn(\n"
     ]
    },
    {
     "data": {
      "application/vnd.jupyter.widget-view+json": {
       "model_id": "8277a5ec90ad49f8ba83a612518f38f1",
       "version_major": 2,
       "version_minor": 0
      },
      "text/plain": [
       "  0%|          | 0/200 [00:00<?, ?it/s]"
      ]
     },
     "metadata": {},
     "output_type": "display_data"
    },
    {
     "ename": "KeyboardInterrupt",
     "evalue": "",
     "output_type": "error",
     "traceback": [
      "\u001b[0;31m---------------------------------------------------------------------------\u001b[0m",
      "\u001b[0;31mKeyboardInterrupt\u001b[0m                         Traceback (most recent call last)",
      "\u001b[1;32m/home/robin/Projects/RHM_test/test.ipynb Cell 11\u001b[0m line \u001b[0;36m<cell line: 1>\u001b[0;34m()\u001b[0m\n\u001b[0;32m----> <a href='vscode-notebook-cell://ssh-remote%2Bampere/home/robin/Projects/RHM_test/test.ipynb#X13sdnNjb2RlLXJlbW90ZQ%3D%3D?line=0'>1</a>\u001b[0m res_np \u001b[39m=\u001b[39m RHM\u001b[39m.\u001b[39;49mnumpy\u001b[39m.\u001b[39;49mrhm_solver\u001b[39m.\u001b[39;49mrhm_refine(mesh1, mesh2, P12_init, P21_init, alpha\u001b[39m=\u001b[39;49m\u001b[39m5e-4\u001b[39;49m, beta\u001b[39m=\u001b[39;49m\u001b[39m5e-3\u001b[39;49m, nit_max\u001b[39m=\u001b[39;49m\u001b[39m200\u001b[39;49m, nit_min\u001b[39m=\u001b[39;49m\u001b[39m20\u001b[39;49m, abs_tol\u001b[39m=\u001b[39;49m\u001b[39m1e-9\u001b[39;49m, n_jobs\u001b[39m=\u001b[39;49m\u001b[39m10\u001b[39;49m, log\u001b[39m=\u001b[39;49m\u001b[39mTrue\u001b[39;49;00m, precise\u001b[39m=\u001b[39;49m\u001b[39mTrue\u001b[39;49;00m, last_precise\u001b[39m=\u001b[39;49m\u001b[39mTrue\u001b[39;49;00m, verbose\u001b[39m=\u001b[39;49m\u001b[39mTrue\u001b[39;49;00m)\n",
      "File \u001b[0;32m~/Projects/RHM_test/RHM/numpy/rhm_solver.py:24\u001b[0m, in \u001b[0;36mrhm_refine\u001b[0;34m(mesh1, mesh2, P12_init, P21_init, alpha, beta, nit_max, nit_min, abs_tol, n_jobs, log, precise, last_precise, verbose)\u001b[0m\n\u001b[1;32m     21\u001b[0m X1 \u001b[39m=\u001b[39m compute_embedding(mesh1, n_samples\u001b[39m=\u001b[39m\u001b[39m500\u001b[39m, n_components\u001b[39m=\u001b[39m\u001b[39m8\u001b[39m, n_jobs\u001b[39m=\u001b[39mn_jobs)\n\u001b[1;32m     22\u001b[0m X2 \u001b[39m=\u001b[39m compute_embedding(mesh2, n_samples\u001b[39m=\u001b[39m\u001b[39m500\u001b[39m, n_components\u001b[39m=\u001b[39m\u001b[39m8\u001b[39m, n_jobs\u001b[39m=\u001b[39mn_jobs)\n\u001b[0;32m---> 24\u001b[0m res \u001b[39m=\u001b[39m rhm_refine_fast(mesh1, mesh2, X1, X2, P12_init, P21_init, alpha\u001b[39m=\u001b[39;49malpha, beta\u001b[39m=\u001b[39;49mbeta, nit_max\u001b[39m=\u001b[39;49mnit_max, nit_min\u001b[39m=\u001b[39;49mnit_min, abs_tol\u001b[39m=\u001b[39;49mabs_tol, n_jobs\u001b[39m=\u001b[39;49mn_jobs, log\u001b[39m=\u001b[39;49mlog, precise\u001b[39m=\u001b[39;49mprecise, last_precise\u001b[39m=\u001b[39;49mlast_precise, verbose\u001b[39m=\u001b[39;49mverbose)\n\u001b[1;32m     26\u001b[0m \u001b[39mreturn\u001b[39;00m res\n",
      "File \u001b[0;32m~/Projects/RHM_test/RHM/numpy/rhm_solver.py:62\u001b[0m, in \u001b[0;36mrhm_refine_fast\u001b[0;34m(mesh1, mesh2, X1, X2, P12_init, P21_init, alpha, beta, nit_max, nit_min, abs_tol, n_jobs, log, precise, last_precise, verbose)\u001b[0m\n\u001b[1;32m     58\u001b[0m X21 \u001b[39m=\u001b[39m solve_X12_fast(X1, P21, P12, mesh2\u001b[39m.\u001b[39mvertex_areas, mesh1\u001b[39m.\u001b[39mvertex_areas, mesh2\u001b[39m.\u001b[39mW, alpha, beta_cur)\n\u001b[1;32m     60\u001b[0m energy_log\u001b[39m.\u001b[39mappend(get_energies(mesh1, mesh2, X1, X2, P12, P21, X12, X21, alpha, beta_cur))  \u001b[39m# 2*iterind\u001b[39;00m\n\u001b[0;32m---> 62\u001b[0m P12 \u001b[39m=\u001b[39m solve_P12(X1, X2, X12, X21, mesh1\u001b[39m.\u001b[39;49marea, mesh2\u001b[39m.\u001b[39;49marea, alpha, beta_cur, faces2\u001b[39m=\u001b[39;49mmesh2\u001b[39m.\u001b[39;49mfaces, n_jobs\u001b[39m=\u001b[39;49mn_jobs, precise\u001b[39m=\u001b[39;49mprecise)\n\u001b[1;32m     63\u001b[0m X12 \u001b[39m=\u001b[39m solve_X12_fast(X2, P12, P21, mesh1\u001b[39m.\u001b[39mvertex_areas, mesh2\u001b[39m.\u001b[39mvertex_areas, mesh1\u001b[39m.\u001b[39mW, alpha, beta_cur)\n\u001b[1;32m     65\u001b[0m energy_log\u001b[39m.\u001b[39mappend(get_energies(mesh1, mesh2, X1, X2, P12, P21, X12, X21, alpha, beta_cur))  \u001b[39m# 2*iterind\u001b[39;00m\n",
      "File \u001b[0;32m~/Projects/RHM_test/RHM/numpy/rhm_solver.py:110\u001b[0m, in \u001b[0;36msolve_P12\u001b[0;34m(X1, X2, X12, X21, area1, area2, alpha, beta, n_jobs, precise, faces2)\u001b[0m\n\u001b[1;32m    107\u001b[0m B_mat \u001b[39m=\u001b[39m np\u001b[39m.\u001b[39mconcatenate([w_bij \u001b[39m*\u001b[39m X1, w_couple \u001b[39m*\u001b[39m X12], axis\u001b[39m=\u001b[39m\u001b[39m1\u001b[39m)  \u001b[39m# (n1, 2d)\u001b[39;00m\n\u001b[1;32m    109\u001b[0m \u001b[39mif\u001b[39;00m precise:\n\u001b[0;32m--> 110\u001b[0m     P12 \u001b[39m=\u001b[39m maps\u001b[39m.\u001b[39;49mEmbPreciseMap(A_mat, B_mat, faces2, n_jobs\u001b[39m=\u001b[39;49mn_jobs)  \u001b[39m# (n1, n2)\u001b[39;00m\n\u001b[1;32m    111\u001b[0m \u001b[39melse\u001b[39;00m:\n\u001b[1;32m    112\u001b[0m     P12 \u001b[39m=\u001b[39m maps\u001b[39m.\u001b[39mEmbP2PMap(A_mat, B_mat, n_jobs\u001b[39m=\u001b[39mn_jobs)\n",
      "File \u001b[0;32m~/Projects/RHM_test/./ScalableDenseMaps/densemaps/numpy/maps.py:204\u001b[0m, in \u001b[0;36mEmbPreciseMap.__init__\u001b[0;34m(self, emb1, emb2, faces1, n_jobs)\u001b[0m\n\u001b[1;32m    200\u001b[0m \u001b[39mself\u001b[39m\u001b[39m.\u001b[39memb1 \u001b[39m=\u001b[39m emb1  \u001b[39m# (N1, K)\u001b[39;00m\n\u001b[1;32m    201\u001b[0m \u001b[39mself\u001b[39m\u001b[39m.\u001b[39memb2 \u001b[39m=\u001b[39m emb2  \u001b[39m# (N2, K)\u001b[39;00m\n\u001b[0;32m--> 204\u001b[0m v2face_21, bary_coords \u001b[39m=\u001b[39m nn_query_precise_np(\u001b[39mself\u001b[39;49m\u001b[39m.\u001b[39;49memb1, faces1, \u001b[39mself\u001b[39;49m\u001b[39m.\u001b[39;49memb2, return_dist\u001b[39m=\u001b[39;49m\u001b[39mFalse\u001b[39;49;00m, batch_size\u001b[39m=\u001b[39;49m\u001b[39mmin\u001b[39;49m(\u001b[39m2000\u001b[39;49m, emb2\u001b[39m.\u001b[39;49mshape[\u001b[39m0\u001b[39;49m]), n_jobs\u001b[39m=\u001b[39;49mn_jobs)\n\u001b[1;32m    206\u001b[0m \u001b[39m# th.cuda.empty_cache()\u001b[39;00m\n\u001b[1;32m    207\u001b[0m \u001b[39msuper\u001b[39m()\u001b[39m.\u001b[39m\u001b[39m__init__\u001b[39m(v2face_21, bary_coords, faces1)\n",
      "File \u001b[0;32m~/Projects/RHM_test/./ScalableDenseMaps/densemaps/numpy/point_to_triangle.py:12\u001b[0m, in \u001b[0;36mnn_query_precise_np\u001b[0;34m(vert_emb, faces, points_emb, return_dist, batch_size, n_jobs)\u001b[0m\n\u001b[1;32m      9\u001b[0m \u001b[39mdef\u001b[39;00m \u001b[39mnn_query_precise_np\u001b[39m(vert_emb, faces, points_emb, return_dist\u001b[39m=\u001b[39m\u001b[39mFalse\u001b[39;00m, batch_size\u001b[39m=\u001b[39m\u001b[39mNone\u001b[39;00m , n_jobs\u001b[39m=\u001b[39m\u001b[39m1\u001b[39m):\n\u001b[1;32m     10\u001b[0m \n\u001b[1;32m     11\u001b[0m         \u001b[39m# n2,  (n2,3)\u001b[39;00m\n\u001b[0;32m---> 12\u001b[0m     face_match, bary_coords \u001b[39m=\u001b[39m project_pc_to_triangles(vert_emb, faces, points_emb,\n\u001b[1;32m     13\u001b[0m                                                         precompute_dmin\u001b[39m=\u001b[39;49mbatch_size \u001b[39mis\u001b[39;49;00m \u001b[39mNone\u001b[39;49;00m,\n\u001b[1;32m     14\u001b[0m                                                         batch_size\u001b[39m=\u001b[39;49mbatch_size,\n\u001b[1;32m     15\u001b[0m                                                         return_sparse\u001b[39m=\u001b[39;49m\u001b[39mFalse\u001b[39;49;00m,\n\u001b[1;32m     16\u001b[0m                                                         n_jobs\u001b[39m=\u001b[39;49mn_jobs,\n\u001b[1;32m     17\u001b[0m                                                         verbose\u001b[39m=\u001b[39;49m\u001b[39mFalse\u001b[39;49;00m)\n\u001b[1;32m     19\u001b[0m     \u001b[39mif\u001b[39;00m return_dist:\n\u001b[1;32m     20\u001b[0m         targets \u001b[39m=\u001b[39m (bary_coords[\u001b[39m.\u001b[39m\u001b[39m.\u001b[39m\u001b[39m.\u001b[39m,\u001b[39mNone\u001b[39;00m] \u001b[39m*\u001b[39m vert_emb[faces[face_match]])\u001b[39m.\u001b[39msum(\u001b[39m1\u001b[39m)  \u001b[39m# (n2, p)\u001b[39;00m\n",
      "File \u001b[0;32m~/Projects/RHM_test/./ScalableDenseMaps/densemaps/numpy/point_to_triangle.py:113\u001b[0m, in \u001b[0;36mproject_pc_to_triangles\u001b[0;34m(vert_emb, faces, points_emb, precompute_dmin, batch_size, n_jobs, return_sparse, verbose)\u001b[0m\n\u001b[1;32m    111\u001b[0m \u001b[39mfor\u001b[39;00m vertind \u001b[39min\u001b[39;00m batch_iterable:\n\u001b[1;32m    112\u001b[0m     batch_vertind \u001b[39m=\u001b[39m vertind \u001b[39m-\u001b[39m batch_minmax[\u001b[39m0\u001b[39m]\n\u001b[0;32m--> 113\u001b[0m     faceind, bary \u001b[39m=\u001b[39m project_to_mesh(vert_emb, faces, points_emb[batch_minmax[\u001b[39m0\u001b[39;49m]:batch_minmax[\u001b[39m1\u001b[39;49m]],\n\u001b[1;32m    114\u001b[0m                                     batch_vertind, lmax, Deltamin[batch_minmax[\u001b[39m0\u001b[39;49m]:batch_minmax[\u001b[39m1\u001b[39;49m]],\n\u001b[1;32m    115\u001b[0m                                     dmin\u001b[39m=\u001b[39;49mdmin_batch, dmin_params\u001b[39m=\u001b[39;49mdmin_params)\n\u001b[1;32m    117\u001b[0m     face_match[vertind] \u001b[39m=\u001b[39m faceind\n\u001b[1;32m    118\u001b[0m     bary_coord[vertind] \u001b[39m=\u001b[39m bary\n",
      "File \u001b[0;32m~/Projects/RHM_test/./ScalableDenseMaps/densemaps/numpy/point_to_triangle.py:347\u001b[0m, in \u001b[0;36mproject_to_mesh\u001b[0;34m(vert_emb, faces, points_emb, vertind, lmax, Deltamin, dmin, dmin_params)\u001b[0m\n\u001b[1;32m    344\u001b[0m     min_dist, proj, min_bary \u001b[39m=\u001b[39m pointTriangleDistance(query_triangles\u001b[39m.\u001b[39msqueeze(), query_point, return_bary\u001b[39m=\u001b[39m\u001b[39mTrue\u001b[39;00m)\n\u001b[1;32m    345\u001b[0m     \u001b[39mreturn\u001b[39;00m query_faceinds, min_bary\n\u001b[0;32m--> 347\u001b[0m dists, proj, bary_coords \u001b[39m=\u001b[39m point_to_triangles_projection(query_triangles, query_point, return_bary\u001b[39m=\u001b[39;49m\u001b[39mTrue\u001b[39;49;00m)\n\u001b[1;32m    349\u001b[0m min_ind \u001b[39m=\u001b[39m dists\u001b[39m.\u001b[39margmin()\n\u001b[1;32m    351\u001b[0m min_faceind \u001b[39m=\u001b[39m query_faceinds[min_ind]\n",
      "File \u001b[0;32m~/Projects/RHM_test/./ScalableDenseMaps/densemaps/numpy/point_to_triangle.py:617\u001b[0m, in \u001b[0;36mpoint_to_triangles_projection\u001b[0;34m(triangles, point, return_bary)\u001b[0m\n\u001b[1;32m    614\u001b[0m inds2_11 \u001b[39m=\u001b[39m inds2_1[test2_11]\n\u001b[1;32m    615\u001b[0m inds2_12 \u001b[39m=\u001b[39m inds2_1[\u001b[39m~\u001b[39mtest2_11]\n\u001b[0;32m--> 617\u001b[0m final_s[inds2_11] \u001b[39m=\u001b[39m \u001b[39m1\u001b[39m\n\u001b[1;32m    618\u001b[0m final_t[inds2_11] \u001b[39m=\u001b[39m \u001b[39m0\u001b[39m\n\u001b[1;32m    619\u001b[0m final_dists[inds2_11] \u001b[39m=\u001b[39m a[inds2_11] \u001b[39m+\u001b[39m \u001b[39m2.0\u001b[39m \u001b[39m*\u001b[39m d[inds2_11] \u001b[39m+\u001b[39m f[inds2_11]\n",
      "\u001b[0;31mKeyboardInterrupt\u001b[0m: "
     ]
    }
   ],
   "source": [
    "res_np = RHM.numpy.rhm_solver.rhm_refine(mesh1, mesh2, P12_init, P21_init, alpha=5e-4, beta=5e-3, nit_max=200, emb_dim=10, nit_min=20, abs_tol=1e-9, n_jobs=10, log=True, precise=True, last_precise=True, verbose=True)"
   ]
  }
 ],
 "metadata": {
  "kernelspec": {
   "display_name": "py39",
   "language": "python",
   "name": "python3"
  },
  "language_info": {
   "codemirror_mode": {
    "name": "ipython",
    "version": 3
   },
   "file_extension": ".py",
   "mimetype": "text/x-python",
   "name": "python",
   "nbconvert_exporter": "python",
   "pygments_lexer": "ipython3",
   "version": "3.9.18"
  },
  "orig_nbformat": 4
 },
 "nbformat": 4,
 "nbformat_minor": 2
}
